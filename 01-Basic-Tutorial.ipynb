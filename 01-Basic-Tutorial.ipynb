{
 "cells": [
  {
   "cell_type": "code",
   "execution_count": null,
   "metadata": {},
   "outputs": [],
   "source": [
    "from dotenv import load_dotenv\n",
    "\n",
    "load_dotenv()"
   ]
  },
  {
   "cell_type": "code",
   "execution_count": 2,
   "metadata": {},
   "outputs": [],
   "source": [
    "# !pip install -U langchain-teddynote"
   ]
  },
  {
   "cell_type": "markdown",
   "metadata": {},
   "source": [
    "## 인스턴스 생성"
   ]
  },
  {
   "cell_type": "code",
   "execution_count": 2,
   "metadata": {},
   "outputs": [],
   "source": [
    "from swarm import Swarm, Agent\n",
    "\n",
    "client = Swarm()"
   ]
  },
  {
   "cell_type": "markdown",
   "metadata": {},
   "source": [
    "## Agent 기본 설정\n",
    "\n",
    "- `name`: 에이전트 이름\n",
    "- `instructions`: 에이전트 의 역할"
   ]
  },
  {
   "cell_type": "code",
   "execution_count": null,
   "metadata": {},
   "outputs": [],
   "source": [
    "# 에이전트 생성\n",
    "agent = Agent(\n",
    "    name=\"Agent\",\n",
    "    instructions=\"You are a helpful agent. Your name is `테디`. You only speak Korean. Start your response with `안녕하세요!` + your name.\",\n",
    ")\n",
    "\n",
    "# 메시지 생성\n",
    "messages = [{\"role\": \"user\", \"content\": \"Hi!\"}]\n",
    "response = client.run(agent=agent, messages=messages)\n",
    "\n",
    "print(response.messages[-1][\"content\"])"
   ]
  },
  {
   "cell_type": "markdown",
   "metadata": {},
   "source": [
    "## Handoff(전달 기능)\n",
    "\n",
    "한 에이전트에서 다른 에이전트로 대화를 넘기는 방법을 보여줍니다."
   ]
  },
  {
   "cell_type": "code",
   "execution_count": 5,
   "metadata": {},
   "outputs": [],
   "source": [
    "from swarm import Swarm, Agent\n",
    "\n",
    "# 인스턴스 생성\n",
    "client = Swarm()\n",
    "\n",
    "# 에이전트 생성\n",
    "english_agent = Agent(\n",
    "    name=\"English Agent\",\n",
    "    instructions=\"You only speak English.\",\n",
    ")\n",
    "\n",
    "# 에이전트 생성\n",
    "korean_agent = Agent(\n",
    "    name=\"Korean Agent\",\n",
    "    instructions=\"You only speak Korean.\",\n",
    ")\n",
    "\n",
    "\n",
    "# 함수 생성(function)\n",
    "def transfer_to_korean_agent():\n",
    "    \"\"\"Transfer Korean speaking users immediately.\"\"\"\n",
    "    return korean_agent\n",
    "\n",
    "\n",
    "# functions 에 함수 추가\n",
    "english_agent.functions.append(transfer_to_korean_agent)"
   ]
  },
  {
   "cell_type": "markdown",
   "metadata": {},
   "source": [
    "`english_agent` 에 메시지 추가: 한국어 입력시 `transfer_to_spanish_agent` 호출, korean_agent 가 반환\n",
    "\n",
    "즉, `transfer_to_spanish_agent` 함수가 일종의 `Router` 역할을 합니다."
   ]
  },
  {
   "cell_type": "code",
   "execution_count": null,
   "metadata": {},
   "outputs": [],
   "source": [
    "# 메시지 전달\n",
    "messages = [{\"role\": \"user\", \"content\": \"안녕하세요?\"}]\n",
    "\n",
    "# 응답 받기\n",
    "response = client.run(agent=english_agent, messages=messages)\n",
    "\n",
    "print(response.messages[-1][\"content\"])"
   ]
  },
  {
   "cell_type": "code",
   "execution_count": null,
   "metadata": {},
   "outputs": [],
   "source": [
    "from langchain_teddynote.messages import display_message_tree\n",
    "\n",
    "display_message_tree(response.messages)"
   ]
  },
  {
   "cell_type": "markdown",
   "metadata": {},
   "source": [
    "## Context Variables"
   ]
  },
  {
   "cell_type": "code",
   "execution_count": null,
   "metadata": {},
   "outputs": [],
   "source": [
    "from swarm import Swarm, Agent\n",
    "\n",
    "# 인스턴스 생성\n",
    "client = Swarm()\n",
    "\n",
    "\n",
    "def instructions(context_variables):\n",
    "    xml_string = \"\"\n",
    "    for key, value in context_variables.items():\n",
    "        xml_string += f\"<{key}>{value}</{key}>\"\n",
    "    return f\"\"\"You are a helpful agent.\n",
    "Introduce yourself with referring to following personal information.\n",
    "(You may skip if you don't have any information.)\n",
    "\n",
    "#Here is your personal information: \\n{xml_string}\"\"\"\n",
    "\n",
    "\n",
    "# 에이전트 생성\n",
    "agent = Agent(\n",
    "    name=\"Agent\",\n",
    "    instructions=instructions,\n",
    ")\n",
    "\n",
    "# 컨텍스트 변수 생성\n",
    "context_variables = {\"name\": \"테디\", \"job\": \"AI Researcher\", \"company\": \"테디노트\"}\n",
    "\n",
    "# 응답 받기\n",
    "response = client.run(\n",
    "    messages=[{\"role\": \"user\", \"content\": \"안녕하세요?\"}],\n",
    "    agent=agent,\n",
    "    context_variables=context_variables,\n",
    ")\n",
    "\n",
    "print(response.messages[-1][\"content\"])"
   ]
  },
  {
   "cell_type": "markdown",
   "metadata": {},
   "source": [
    "## Function Calling"
   ]
  },
  {
   "cell_type": "code",
   "execution_count": null,
   "metadata": {},
   "outputs": [],
   "source": [
    "from swarm import Swarm, Agent\n",
    "\n",
    "client = Swarm()\n",
    "\n",
    "\n",
    "def get_weather(location: str) -> str:\n",
    "    \"\"\"Get the weather of a given location.\"\"\"\n",
    "    return \"{'temp':20, 'unit':'C'}\"\n",
    "\n",
    "\n",
    "agent = Agent(\n",
    "    name=\"Agent\",\n",
    "    instructions=\"You are a helpful agent.\",\n",
    "    functions=[get_weather],\n",
    ")\n",
    "\n",
    "messages = [{\"role\": \"user\", \"content\": \"서울의 날씨는 어때?\"}]\n",
    "\n",
    "response = client.run(agent=agent, messages=messages)\n",
    "print(response.messages[-1][\"content\"])"
   ]
  },
  {
   "cell_type": "code",
   "execution_count": null,
   "metadata": {},
   "outputs": [],
   "source": [
    "from langchain_teddynote.messages import display_message_tree\n",
    "\n",
    "display_message_tree(response.messages)"
   ]
  },
  {
   "cell_type": "markdown",
   "metadata": {},
   "source": [
    "## 대화 루프"
   ]
  },
  {
   "cell_type": "code",
   "execution_count": null,
   "metadata": {},
   "outputs": [],
   "source": [
    "from swarm import Swarm, Agent\n",
    "\n",
    "client = Swarm()\n",
    "\n",
    "my_agent = Agent(\n",
    "    name=\"Agent\",\n",
    "    instructions=\"You are a helpful agent.\",\n",
    ")\n",
    "\n",
    "\n",
    "def pretty_print_messages(messages):\n",
    "    if len(messages) > 0:\n",
    "        print(f\"{messages[-1]['role']}: {messages[-1]['content']}\")\n",
    "\n",
    "\n",
    "messages = []\n",
    "agent = my_agent\n",
    "\n",
    "while True:\n",
    "    user_input = input(\"> \")\n",
    "    if user_input.strip().lower() == \"bye\" or user_input.strip().lower() == \"q\":\n",
    "        break\n",
    "    messages.append({\"role\": \"user\", \"content\": user_input})\n",
    "    pretty_print_messages(messages)\n",
    "    response = client.run(agent=agent, messages=messages)\n",
    "    messages.append({\"role\": \"assistant\", \"content\": response.messages[-1][\"content\"]})\n",
    "    agent = response.agent\n",
    "    pretty_print_messages(messages)"
   ]
  }
 ],
 "metadata": {
  "kernelspec": {
   "display_name": "swarm-zYEgWJSB-py3.11",
   "language": "python",
   "name": "python3"
  },
  "language_info": {
   "codemirror_mode": {
    "name": "ipython",
    "version": 3
   },
   "file_extension": ".py",
   "mimetype": "text/x-python",
   "name": "python",
   "nbconvert_exporter": "python",
   "pygments_lexer": "ipython3",
   "version": "3.11.9"
  }
 },
 "nbformat": 4,
 "nbformat_minor": 2
}
